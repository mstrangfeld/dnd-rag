{
 "cells": [
  {
   "cell_type": "markdown",
   "id": "2c195c74",
   "metadata": {},
   "source": [
    "# Vector Search via Embeddings\n",
    "\n",
    "First, we need to load all the Markdown files and chunk them up, so we have smaller texts we can embed.\n"
   ]
  },
  {
   "cell_type": "code",
   "execution_count": 15,
   "id": "e3af1ecb",
   "metadata": {},
   "outputs": [],
   "source": [
    "from langchain.document_loaders import DirectoryLoader, TextLoader\n",
    "from langchain.text_splitter import MarkdownTextSplitter\n",
    "\n",
    "loader = DirectoryLoader(\n",
    "    \"./data\",\n",
    "    glob=\"**/*.md\",\n",
    "    loader_cls=TextLoader,\n",
    ")\n",
    "\n",
    "documents = loader.load()\n",
    "\n",
    "# Split the markdown documents into chunks\n",
    "text_splitter = MarkdownTextSplitter()\n",
    "\n",
    "split_documents = text_splitter.split_documents(documents)"
   ]
  },
  {
   "cell_type": "markdown",
   "id": "fcd3eaab",
   "metadata": {},
   "source": [
    "## Embedding Model\n",
    "\n",
    "Oh dear lord, there are a lot of embedding models to choose from.\n",
    "I guess I could spend days figuring out which one has the best performance for my use case.\n",
    "If you are interested, here is the [MTEB Leaderboard](https://huggingface.co/spaces/mteb/leaderboard).\n",
    "\n",
    "I would have liked to choose a bigger model, but for now let's stick with something super simple.\n"
   ]
  },
  {
   "cell_type": "code",
   "execution_count": 16,
   "id": "459cc71b",
   "metadata": {},
   "outputs": [],
   "source": [
    "from langchain_huggingface import HuggingFaceEmbeddings\n",
    "\n",
    "embedding_model = HuggingFaceEmbeddings(model_name=\"BAAI/bge-small-en-v1.5\")"
   ]
  },
  {
   "cell_type": "markdown",
   "id": "fe81232f",
   "metadata": {},
   "source": [
    "## VectorDB\n",
    "\n",
    "Let's embed those chunks and stuff them in a vector database locally.\n",
    "\n",
    "I choose LanceDB because it is written in Rust and I'm a sucker for the crabs.\n"
   ]
  },
  {
   "cell_type": "code",
   "execution_count": 17,
   "id": "62f29669",
   "metadata": {},
   "outputs": [],
   "source": [
    "from langchain_community.vectorstores import LanceDB\n",
    "\n",
    "db_path = \"./db/srd.lancedb\"\n",
    "\n",
    "vectorstore = LanceDB(uri=db_path, embedding=embedding_model, table_name=\"srd\")"
   ]
  },
  {
   "cell_type": "code",
   "execution_count": null,
   "id": "75e4fcd2",
   "metadata": {},
   "outputs": [],
   "source": [
    "vectorstore.add_documents(split_documents)"
   ]
  },
  {
   "cell_type": "markdown",
   "id": "65af5b5b",
   "metadata": {},
   "source": [
    "## Retrieval\n",
    "\n",
    "### Vector Similarity\n",
    "\n",
    "Now it is time to search for our documents.\n"
   ]
  },
  {
   "cell_type": "code",
   "execution_count": 20,
   "id": "494b7dad",
   "metadata": {},
   "outputs": [
    {
     "data": {
      "text/plain": [
       "[(Document(metadata={'source': 'data/DND.SRD.Wiki-0.5.2/Races/Elf.md'}, page_content='# Elf\\n\\n### Elf Traits\\n\\nYour elf character has a variety of natural abilities, the result of thousands of years of elven refinement.\\n\\n***Ability Score Increase***. Your Dexterity score increases by 2.\\n\\n***Age***. Although elves reach physical maturity at about the same age as humans, the elven understanding of adulthood goes beyond physical growth to encompass worldly experience. An elf typically claims adulthood and an adult name around the age of 100 and can live to be 750 years old.\\n\\n***Alignment***. Elves love freedom, variety, and self- expression, so they lean strongly toward the gentler aspects of chaos. They value and protect others\\' freedom as well as their own, and they are more often good than not. The drow are an exception; their exile has made them vicious and dangerous. Drow are more often evil than not.\\n\\n***Size***. Elves range from under 5 to over 6 feet tall and have slender builds. Your size is Medium.\\n\\n***Speed***. Your base walking speed is 30 feet.\\n\\n***Darkvision***. Accustomed to twilit forests and the night sky, you have superior vision in dark and dim conditions. You can see in dim light within 60 feet of you as if it were bright light, and in darkness as if it were dim light. You can\\'t discern color in darkness, only shades of gray.\\n\\n***Keen Senses***. You have proficiency in the Perception skill.\\n\\n***Fey Ancestry***. You have advantage on saving throws against being charmed, and magic can\\'t put you to sleep.\\n\\n***Trance***. Elves don\\'t need to sleep. Instead, they meditate deeply, remaining semiconscious, for 4 hours a day. (The Common word for such meditation is \"trance.\") While meditating, you can dream after a fashion; such dreams are actually mental exercises that have become reflexive through years of practice.\\n\\nAfter resting in this way, you gain the same benefit that a human does from 8 hours of sleep.\\n\\n***Languages***. You can speak, read, and write Common and Elvish. Elvish is fluid, with subtle intonations and intricate grammar. Elven literature is rich and varied, and their songs and poems are famous among other races. Many bards learn their language so they can add Elvish ballads to their repertoires.\\n\\n## High Elf\\n\\nAs a high elf, you have a keen mind and a mastery of at least the basics of magic. In many fantasy gaming worlds, there are two kinds of high elves. One type is haughty and reclusive, believing themselves to be superior to non-elves and even other elves. The other type is more common and more friendly, and often encountered among humans and other races.\\n\\n***Ability Score Increase***. Your Intelligence score increases by 1.\\n\\n***Elf Weapon Training***. You have proficiency with the longsword, shortsword, shortbow, and longbow.\\n\\n***Cantrip***. You know one cantrip of your choice from the wizard spell list. Intelligence is your spellcasting ability for it.\\n\\n***Extra Language***. You can speak, read, and write one extra language of your choice.'),\n",
       "  0.4268169403076172),\n",
       " (Document(metadata={'source': 'data/DND.SRD.Wiki-0.5.2/Races/Half-Elf.md'}, page_content=\"# Half-Elf\\n\\n### Half-Elf Traits\\n\\nYour half-elf character has some qualities in common with elves and some that are unique to half-elves.\\n\\n***Ability Score Increase***. Your Charisma score increases by 2, and two other ability scores of your choice increase by 1.\\n\\n***Age***. Half-elves mature at the same rate humans do and reach adulthood around the age of 20. They live much longer than humans, however, often exceeding 180 years.\\n\\n***Alignment***. Half-elves share the chaotic bent of their elven heritage. They value both personal freedom and creative expression, demonstrating neither love of leaders nor desire for followers. They chafe at rules, resent others' demands, and sometimes prove unreliable, or at least unpredictable.\\n\\n***Size***. Half-elves are about the same size as humans, ranging from 5 to 6 feet tall. Your size is Medium.\\n\\n***Speed***. Your base walking speed is 30 feet.\\n\\n***Darkvision***. Thanks to your elf blood, you have superior vision in dark and dim conditions. You can see in dim light within 60 feet of you as if it were bright light, and in darkness as if it were dim light. You can't discern color in darkness, only shades of gray.\\n\\n***Fey Ancestry***. You have advantage on saving throws against being charmed, and magic can't put you to sleep.\\n\\n***Skill Versatility***. You gain proficiency in two skills of your choice.\\n\\n***Languages***. You can speak, read, and write Common, Elvish, and one extra language of your choice.\"),\n",
       "  0.582505464553833),\n",
       " (Document(metadata={'source': 'data/DND.SRD.Wiki-0.5.2/Monsters/# Monster Statistics.md'}, page_content=\"**Elementals** are creatures native to the elemental planes. Some creatures of this type are little more than animate masses of their respective elements, including the creatures simply called elementals. Others have biological forms infused with elemental energy. The races of genies, including djinn and efreet, form the most important civilizations on the elemental planes. Other elemental creatures include azers, invisible stalkers, and water weirds.\\n\\n**Fey** are magical creatures closely tied to the forces of nature. They dwell in twilight groves and misty forests. In some worlds, they are closely tied to the Feywild, also called the Plane of Faerie. Some are also found in the Outer Planes, particularly the planes of Arborea and the Beastlands. Fey include dryads, pixies, and satyrs.\\n\\n**Fiends** are creatures of wickedness that are native to the Lower Planes. A few are the servants of deities, but many more labor under the leadership of archdevils and demon princes. Evil priests and mages sometimes summon fiends to the material world to do their bidding. If an evil celestial is a rarity, a good fiend is almost inconceivable. Fiends include demons, devils, hell hounds, rakshasas, and yugoloths.\\n\\n**Giants** tower over humans and their kind. They are humanlike in shape, though some have multiple heads (ettins) or deformities (fomorians). The six varieties of true giant are hill giants, stone giants, frost giants, fire giants, cloud giants, and storm giants. Besides these, creatures such as ogres and trolls are giants.\\n\\n**Humanoids** are the main peoples of a fantasy gaming world, both civilized and savage, including humans and a tremendous variety of other species. They have language and culture, few if any innate magical abilities (though most humanoids can learn spellcasting), and a bipedal form. The most common humanoid races are the ones most suitable as player characters: humans, dwarves, elves, and halflings. Almost as numerous but far more savage and brutal, and almost uniformly evil, are the races of goblinoids (goblins, hobgoblins, and bugbears), orcs, gnolls, lizardfolk, and kobolds.\\n\\n**Monstrosities** are monsters in the strictest sense-frightening creatures that are not ordinary, not truly natural, and almost never benign. Some are the results of magical experimentation gone awry (such as owlbears), and others are the product of terrible curses (including minotaurs and yuan-ti). They defy categorization, and in some sense serve as a catch-all category for creatures that don't fit into any other type.\\n\\n**Oozes** are gelatinous creatures that rarely have a fixed shape. They are mostly subterranean, dwelling in caves and dungeons and feeding on refuse, carrion, or creatures unlucky enough to get in their way. Black puddings and gelatinous cubes are among the most recognizable oozes.\\n\\n**Plants** in this context are vegetable creatures, not ordinary flora. Most of them are ambulatory, and some are carnivorous. The quintessential plants are the shambling mound and the treant. Fungal creatures such as the gas spore and the myconid also fall into this category.\\n\\n**Undead** are once-living creatures brought to a horrifying state of undeath through the practice of necromantic magic or some unholy curse. Undead include walking corpses, such as vampires and zombies, as well as bodiless spirits, such as ghosts and specters.\\n\\n### Tags\\n\\nA monster might have one or more tags appended to its type, in parentheses. For example, an orc has the *humanoid (orc)* type. The parenthetical tags provide additional categorization for certain creatures. The tags have no rules of their own, but something in the game, such as a magic item, might refer to them. For instance, a spear that is especially effective at fighting demons would work against any monster that has the demon tag.\\n\\n## Alignment\"),\n",
       "  0.6583322286605835),\n",
       " (Document(metadata={'source': 'data/DND.SRD.Wiki-0.5.2/Monsters (Alt)/# Monster Statistics.md'}, page_content=\"**Elementals** are creatures native to the elemental planes. Some creatures of this type are little more than animate masses of their respective elements, including the creatures simply called elementals. Others have biological forms infused with elemental energy. The races of genies, including djinn and efreet, form the most important civilizations on the elemental planes. Other elemental creatures include azers, invisible stalkers, and water weirds.\\n\\n**Fey** are magical creatures closely tied to the forces of nature. They dwell in twilight groves and misty forests. In some worlds, they are closely tied to the Feywild, also called the Plane of Faerie. Some are also found in the Outer Planes, particularly the planes of Arborea and the Beastlands. Fey include dryads, pixies, and satyrs.\\n\\n**Fiends** are creatures of wickedness that are native to the Lower Planes. A few are the servants of deities, but many more labor under the leadership of archdevils and demon princes. Evil priests and mages sometimes summon fiends to the material world to do their bidding. If an evil celestial is a rarity, a good fiend is almost inconceivable. Fiends include demons, devils, hell hounds, rakshasas, and yugoloths.\\n\\n**Giants** tower over humans and their kind. They are humanlike in shape, though some have multiple heads (ettins) or deformities (fomorians). The six varieties of true giant are hill giants, stone giants, frost giants, fire giants, cloud giants, and storm giants. Besides these, creatures such as ogres and trolls are giants.\\n\\n**Humanoids** are the main peoples of a fantasy gaming world, both civilized and savage, including humans and a tremendous variety of other species. They have language and culture, few if any innate magical abilities (though most humanoids can learn spellcasting), and a bipedal form. The most common humanoid races are the ones most suitable as player characters: humans, dwarves, elves, and halflings. Almost as numerous but far more savage and brutal, and almost uniformly evil, are the races of goblinoids (goblins, hobgoblins, and bugbears), orcs, gnolls, lizardfolk, and kobolds.\\n\\n**Monstrosities** are monsters in the strictest sense-frightening creatures that are not ordinary, not truly natural, and almost never benign. Some are the results of magical experimentation gone awry (such as owlbears), and others are the product of terrible curses (including minotaurs and yuan-ti). They defy categorization, and in some sense serve as a catch-all category for creatures that don't fit into any other type.\\n\\n**Oozes** are gelatinous creatures that rarely have a fixed shape. They are mostly subterranean, dwelling in caves and dungeons and feeding on refuse, carrion, or creatures unlucky enough to get in their way. Black puddings and gelatinous cubes are among the most recognizable oozes.\\n\\n**Plants** in this context are vegetable creatures, not ordinary flora. Most of them are ambulatory, and some are carnivorous. The quintessential plants are the shambling mound and the treant. Fungal creatures such as the gas spore and the myconid also fall into this category.\\n\\n**Undead** are once-living creatures brought to a horrifying state of undeath through the practice of necromantic magic or some unholy curse. Undead include walking corpses, such as vampires and zombies, as well as bodiless spirits, such as ghosts and specters.\\n\\n#### Tags\\n\\nA monster might have one or more tags appended to its type, in parentheses. For example, an orc has the *humanoid (orc)* type. The parenthetical tags provide additional categorization for certain creatures. The tags have no rules of their own, but something in the game, such as a magic item, might refer to them. For instance, a spear that is especially effective at fighting demons would work against any monster that has the demon tag.\\n\\n## Alignment\"),\n",
       "  0.6583322286605835),\n",
       " (Document(metadata={'source': 'data/DND.SRD.Wiki-0.5.2/Monsters/Elf, Drow.md'}, page_content=\"## Elf, Drow\\n\\n*Medium humanoid (elf), neutral evil*\\n\\n**Armor Class** 15 (chain shirt)\\n\\n**Hit Points** 13 (3d8)\\n\\n**Speed** 30 ft.\\n\\n| STR     | DEX     | CON     | INT     | WIS     | CHA     |\\n|---------|---------|---------|---------|---------|---------|\\n| 10 (+0) | 14 (+2) | 10 (+0) | 11 (+0) | 11 (+0) | 12 (+1) |\\n\\n**Skills** Perception +2, Stealth +4\\n\\n**Senses** darkvision 120 ft., passive Perception 12\\n\\n**Languages** Elvish, Undercommon\\n\\n**Challenge** 1/4 (50 XP)\\n\\n***Fey Ancestry***. The drow has advantage on saving throws against being charmed, and magic can't put the drow to sleep.\\n\\n***Innate Spellcasting***. The drow's spellcasting ability is Charisma (spell save DC 11). It can innately cast the following spells, requiring no material Components\\n\\nAt will: *dancing lights*\\n\\n1/day each: *darkness*, *faerie fire*\\n\\n***Sunlight Sensitivity***. While in sunlight, the drow has disadvantage on attack rolls, as well as on Wisdom (Perception) checks that rely on sight.\\n\\n###### Actions\\n\\n***Shortsword***. *Melee Weapon Attack:* +4 to hit, reach 5 ft., one target. *Hit:* 5 (1d6+2) piercing damage.\\n\\n***Hand Crossbow***. *Ranged Weapon Attack:* +4 to hit, range 30/120 ft., one target. *Hit:* 5 (1d6+2) piercing damage, and the target must succeed on a DC 13 Constitution saving throw or be poisoned for 1 hour. If the saving throw fails by 5 or more, the target is also unconscious while poisoned in this way. The target wakes up if it takes damage or if another creature takes an action to shake it awake.\"),\n",
       "  0.7203684449195862)]"
      ]
     },
     "execution_count": 20,
     "metadata": {},
     "output_type": "execute_result"
    }
   ],
   "source": [
    "# Simple similarity search\n",
    "vectorstore.similarity_search_with_score(query=\"What is an Elf?\", k=5)"
   ]
  },
  {
   "cell_type": "markdown",
   "id": "0893548a",
   "metadata": {},
   "source": [
    "### Hybrid Retrieval\n",
    "\n",
    "Now let's do a hybrid search with dense vector search + bm25.\n"
   ]
  },
  {
   "cell_type": "code",
   "execution_count": 25,
   "id": "e018d288",
   "metadata": {},
   "outputs": [
    {
     "data": {
      "text/html": [
       "<div><style>\n",
       ".dataframe > thead > tr,\n",
       ".dataframe > tbody > tr {\n",
       "  text-align: right;\n",
       "  white-space: pre-wrap;\n",
       "}\n",
       "</style>\n",
       "<small>shape: (5, 5)</small><table border=\"1\" class=\"dataframe\"><thead><tr><th>vector</th><th>id</th><th>text</th><th>metadata</th><th>_relevance_score</th></tr><tr><td>array[f32, 384]</td><td>str</td><td>str</td><td>struct[1]</td><td>f32</td></tr></thead><tbody><tr><td>[-0.069095, 0.058212, … -0.034371]</td><td>&quot;0e546ea8-5352-488b-9390-1cb38f…</td><td>&quot;# Elf\n",
       "\n",
       "### Elf Traits\n",
       "\n",
       "Your el…</td><td>{&quot;data/DND.SRD.Wiki-0.5.2/Races/Elf.md&quot;}</td><td>0.032522</td></tr><tr><td>[-0.078247, 0.056938, … -0.061199]</td><td>&quot;1f179c99-c1d0-4a8e-b43e-b48e73…</td><td>&quot;# Half-Elf\n",
       "\n",
       "### Half-Elf Trait…</td><td>{&quot;data/DND.SRD.Wiki-0.5.2/Races/Half-Elf.md&quot;}</td><td>0.032002</td></tr><tr><td>[-0.1178, 0.026662, … 0.046217]</td><td>&quot;738b8007-dfbb-42df-8ed4-b47bbe…</td><td>&quot;## Elf, Drow\n",
       "\n",
       "*Medium humanoid…</td><td>{&quot;data/DND.SRD.Wiki-0.5.2/Monsters/Elf, Drow.md&quot;}</td><td>0.03101</td></tr><tr><td>[-0.068049, -0.006061, … -0.014065]</td><td>&quot;fb5c5096-7353-49b0-8e72-3f0d80…</td><td>&quot;### Reincarnate\n",
       "\n",
       "*5th-level tr…</td><td>{&quot;data/DND.SRD.Wiki-0.5.2/Spells/Reincarnate.md&quot;}</td><td>0.016393</td></tr><tr><td>[-0.051547, 0.01843, … 0.030391]</td><td>&quot;588f1d62-44fa-4751-b338-5360a7…</td><td>&quot;**Elementals** are creatures n…</td><td>{&quot;data/DND.SRD.Wiki-0.5.2/Monsters (Alt)/# Monster Statistics.md&quot;}</td><td>0.015873</td></tr></tbody></table></div>"
      ],
      "text/plain": [
       "shape: (5, 5)\n",
       "┌───────────────────┬───────────────────┬───────────────────┬───────────────────┬──────────────────┐\n",
       "│ vector            ┆ id                ┆ text              ┆ metadata          ┆ _relevance_score │\n",
       "│ ---               ┆ ---               ┆ ---               ┆ ---               ┆ ---              │\n",
       "│ array[f32, 384]   ┆ str               ┆ str               ┆ struct[1]         ┆ f32              │\n",
       "╞═══════════════════╪═══════════════════╪═══════════════════╪═══════════════════╪══════════════════╡\n",
       "│ [-0.069095,       ┆ 0e546ea8-5352-488 ┆ # Elf             ┆ {\"data/DND.SRD.Wi ┆ 0.032522         │\n",
       "│ 0.058212, …       ┆ b-9390-1cb38f…    ┆                   ┆ ki-0.5.2/Race…    ┆                  │\n",
       "│ -0.034…           ┆                   ┆ ### Elf Traits    ┆                   ┆                  │\n",
       "│                   ┆                   ┆                   ┆                   ┆                  │\n",
       "│                   ┆                   ┆ Your el…          ┆                   ┆                  │\n",
       "│ [-0.078247,       ┆ 1f179c99-c1d0-4a8 ┆ # Half-Elf        ┆ {\"data/DND.SRD.Wi ┆ 0.032002         │\n",
       "│ 0.056938, …       ┆ e-b43e-b48e73…    ┆                   ┆ ki-0.5.2/Race…    ┆                  │\n",
       "│ -0.061…           ┆                   ┆ ### Half-Elf      ┆                   ┆                  │\n",
       "│                   ┆                   ┆ Trait…            ┆                   ┆                  │\n",
       "│ [-0.1178,         ┆ 738b8007-dfbb-42d ┆ ## Elf, Drow      ┆ {\"data/DND.SRD.Wi ┆ 0.03101          │\n",
       "│ 0.026662, …       ┆ f-8ed4-b47bbe…    ┆                   ┆ ki-0.5.2/Mons…    ┆                  │\n",
       "│ 0.046217…         ┆                   ┆ *Medium humanoid… ┆                   ┆                  │\n",
       "│ [-0.068049,       ┆ fb5c5096-7353-49b ┆ ### Reincarnate   ┆ {\"data/DND.SRD.Wi ┆ 0.016393         │\n",
       "│ -0.006061, …      ┆ 0-8e72-3f0d80…    ┆                   ┆ ki-0.5.2/Spel…    ┆                  │\n",
       "│ -0.01…            ┆                   ┆ *5th-level tr…    ┆                   ┆                  │\n",
       "│ [-0.051547,       ┆ 588f1d62-44fa-475 ┆ **Elementals**    ┆ {\"data/DND.SRD.Wi ┆ 0.015873         │\n",
       "│ 0.01843, …        ┆ 1-b338-5360a7…    ┆ are creatures n…  ┆ ki-0.5.2/Mons…    ┆                  │\n",
       "│ 0.03039…          ┆                   ┆                   ┆                   ┆                  │\n",
       "└───────────────────┴───────────────────┴───────────────────┴───────────────────┴──────────────────┘"
      ]
     },
     "execution_count": 25,
     "metadata": {},
     "output_type": "execute_result"
    }
   ],
   "source": [
    "import lancedb\n",
    "\n",
    "db = lancedb.connect(db_path)\n",
    "\n",
    "table = db.open_table(\"srd\")\n",
    "table.create_fts_index(field_names=[\"text\"], replace=True)\n",
    "\n",
    "query = \"What is an Elf?\"\n",
    "query_vector = embedding_model.embed_query(query)\n",
    "\n",
    "table.search(query_type=\"hybrid\").vector(query_vector).text(query).limit(5).to_polars()"
   ]
  },
  {
   "cell_type": "markdown",
   "id": "351edd0f",
   "metadata": {},
   "source": [
    "### Hybrid Retrieval with Reranker\n"
   ]
  },
  {
   "cell_type": "code",
   "execution_count": 26,
   "id": "0c360cd8",
   "metadata": {},
   "outputs": [
    {
     "data": {
      "text/html": [
       "<div><style>\n",
       ".dataframe > thead > tr,\n",
       ".dataframe > tbody > tr {\n",
       "  text-align: right;\n",
       "  white-space: pre-wrap;\n",
       "}\n",
       "</style>\n",
       "<small>shape: (5, 5)</small><table border=\"1\" class=\"dataframe\"><thead><tr><th>vector</th><th>id</th><th>text</th><th>metadata</th><th>_relevance_score</th></tr><tr><td>array[f32, 384]</td><td>str</td><td>str</td><td>struct[1]</td><td>f32</td></tr></thead><tbody><tr><td>[-0.069095, 0.058212, … -0.034371]</td><td>&quot;0e546ea8-5352-488b-9390-1cb38f…</td><td>&quot;# Elf\n",
       "\n",
       "### Elf Traits\n",
       "\n",
       "Your el…</td><td>{&quot;data/DND.SRD.Wiki-0.5.2/Races/Elf.md&quot;}</td><td>2.008377</td></tr><tr><td>[-0.078247, 0.056938, … -0.061199]</td><td>&quot;1f179c99-c1d0-4a8e-b43e-b48e73…</td><td>&quot;# Half-Elf\n",
       "\n",
       "### Half-Elf Trait…</td><td>{&quot;data/DND.SRD.Wiki-0.5.2/Races/Half-Elf.md&quot;}</td><td>-1.293953</td></tr><tr><td>[-0.1178, 0.026662, … 0.046217]</td><td>&quot;738b8007-dfbb-42df-8ed4-b47bbe…</td><td>&quot;## Elf, Drow\n",
       "\n",
       "*Medium humanoid…</td><td>{&quot;data/DND.SRD.Wiki-0.5.2/Monsters/Elf, Drow.md&quot;}</td><td>-3.574201</td></tr><tr><td>[-0.068587, 0.002545, … -0.012316]</td><td>&quot;03a1d37a-42f5-4381-8232-610d87…</td><td>&quot;**Table- Reincarnate Race**\n",
       "\n",
       "|…</td><td>{&quot;data/DND.SRD.Wiki-0.5.2/Spells (Alt)/Spells R.md&quot;}</td><td>-4.437528</td></tr><tr><td>[-0.051547, 0.01843, … 0.030391]</td><td>&quot;588f1d62-44fa-4751-b338-5360a7…</td><td>&quot;**Elementals** are creatures n…</td><td>{&quot;data/DND.SRD.Wiki-0.5.2/Monsters (Alt)/# Monster Statistics.md&quot;}</td><td>-5.166459</td></tr></tbody></table></div>"
      ],
      "text/plain": [
       "shape: (5, 5)\n",
       "┌───────────────────┬───────────────────┬───────────────────┬───────────────────┬──────────────────┐\n",
       "│ vector            ┆ id                ┆ text              ┆ metadata          ┆ _relevance_score │\n",
       "│ ---               ┆ ---               ┆ ---               ┆ ---               ┆ ---              │\n",
       "│ array[f32, 384]   ┆ str               ┆ str               ┆ struct[1]         ┆ f32              │\n",
       "╞═══════════════════╪═══════════════════╪═══════════════════╪═══════════════════╪══════════════════╡\n",
       "│ [-0.069095,       ┆ 0e546ea8-5352-488 ┆ # Elf             ┆ {\"data/DND.SRD.Wi ┆ 2.008377         │\n",
       "│ 0.058212, …       ┆ b-9390-1cb38f…    ┆                   ┆ ki-0.5.2/Race…    ┆                  │\n",
       "│ -0.034…           ┆                   ┆ ### Elf Traits    ┆                   ┆                  │\n",
       "│                   ┆                   ┆                   ┆                   ┆                  │\n",
       "│                   ┆                   ┆ Your el…          ┆                   ┆                  │\n",
       "│ [-0.078247,       ┆ 1f179c99-c1d0-4a8 ┆ # Half-Elf        ┆ {\"data/DND.SRD.Wi ┆ -1.293953        │\n",
       "│ 0.056938, …       ┆ e-b43e-b48e73…    ┆                   ┆ ki-0.5.2/Race…    ┆                  │\n",
       "│ -0.061…           ┆                   ┆ ### Half-Elf      ┆                   ┆                  │\n",
       "│                   ┆                   ┆ Trait…            ┆                   ┆                  │\n",
       "│ [-0.1178,         ┆ 738b8007-dfbb-42d ┆ ## Elf, Drow      ┆ {\"data/DND.SRD.Wi ┆ -3.574201        │\n",
       "│ 0.026662, …       ┆ f-8ed4-b47bbe…    ┆                   ┆ ki-0.5.2/Mons…    ┆                  │\n",
       "│ 0.046217…         ┆                   ┆ *Medium humanoid… ┆                   ┆                  │\n",
       "│ [-0.068587,       ┆ 03a1d37a-42f5-438 ┆ **Table-          ┆ {\"data/DND.SRD.Wi ┆ -4.437528        │\n",
       "│ 0.002545, …       ┆ 1-8232-610d87…    ┆ Reincarnate       ┆ ki-0.5.2/Spel…    ┆                  │\n",
       "│ -0.012…           ┆                   ┆ Race**            ┆                   ┆                  │\n",
       "│                   ┆                   ┆                   ┆                   ┆                  │\n",
       "│                   ┆                   ┆ |…                ┆                   ┆                  │\n",
       "│ [-0.051547,       ┆ 588f1d62-44fa-475 ┆ **Elementals**    ┆ {\"data/DND.SRD.Wi ┆ -5.166459        │\n",
       "│ 0.01843, …        ┆ 1-b338-5360a7…    ┆ are creatures n…  ┆ ki-0.5.2/Mons…    ┆                  │\n",
       "│ 0.03039…          ┆                   ┆                   ┆                   ┆                  │\n",
       "└───────────────────┴───────────────────┴───────────────────┴───────────────────┴──────────────────┘"
      ]
     },
     "execution_count": 26,
     "metadata": {},
     "output_type": "execute_result"
    }
   ],
   "source": [
    "from lancedb.rerankers import CrossEncoderReranker\n",
    "\n",
    "reranker = CrossEncoderReranker(model_name=\"cross-encoder/ms-marco-MiniLM-L6-v2\")\n",
    "\n",
    "table.search(query_type=\"hybrid\").vector(query_vector).text(query).limit(5).rerank(\n",
    "    reranker\n",
    ").to_polars()"
   ]
  }
 ],
 "metadata": {
  "kernelspec": {
   "display_name": "dnd-rag",
   "language": "python",
   "name": "python3"
  },
  "language_info": {
   "codemirror_mode": {
    "name": "ipython",
    "version": 3
   },
   "file_extension": ".py",
   "mimetype": "text/x-python",
   "name": "python",
   "nbconvert_exporter": "python",
   "pygments_lexer": "ipython3",
   "version": "3.12.9"
  }
 },
 "nbformat": 4,
 "nbformat_minor": 5
}
