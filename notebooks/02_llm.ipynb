{
 "cells": [
  {
   "cell_type": "markdown",
   "id": "b1e758bc",
   "metadata": {},
   "source": [
    "# Bring the LLM\n",
    "\n",
    "So, now that we created our vector database with all the indexed chunks from the SRD, let's actually use it to answer some questions.\n"
   ]
  },
  {
   "cell_type": "code",
   "execution_count": 2,
   "id": "dd083a02",
   "metadata": {},
   "outputs": [],
   "source": [
    "from langchain_huggingface import HuggingFaceEmbeddings\n",
    "from langchain_community.vectorstores import LanceDB\n",
    "\n",
    "embedding_model = HuggingFaceEmbeddings(model_name=\"BAAI/bge-small-en-v1.5\")\n",
    "\n",
    "db_path = \"./db/srd.lancedb\"\n",
    "vectorstore = LanceDB(uri=db_path, embedding=embedding_model, table_name=\"srd\")\n",
    "retriever = vectorstore.as_retriever()"
   ]
  },
  {
   "cell_type": "code",
   "execution_count": 3,
   "id": "23d6a55c",
   "metadata": {},
   "outputs": [],
   "source": [
    "from langchain.tools.retriever import create_retriever_tool\n",
    "\n",
    "retriever_tool = create_retriever_tool(\n",
    "    retriever,\n",
    "    \"retrieve_dnd_system_reference_document\",\n",
    "    \"Search and return information about DnD system reference document (SRD).\",\n",
    ")"
   ]
  },
  {
   "cell_type": "code",
   "execution_count": null,
   "id": "75f9baaa",
   "metadata": {},
   "outputs": [],
   "source": [
    "# To allow the use of async features in Jupyter notebooks\n",
    "import nest_asyncio\n",
    "\n",
    "nest_asyncio.apply()"
   ]
  },
  {
   "cell_type": "code",
   "execution_count": 4,
   "id": "b4fb55a7",
   "metadata": {},
   "outputs": [
    {
     "name": "stdout",
     "output_type": "stream",
     "text": [
      "Using model: anthropic:claude-3-haiku-20240307\n",
      "city='Chicago' country='United States'\n",
      "Usage(requests=1, request_tokens=447, response_tokens=56, total_tokens=503, details={'cache_creation_input_tokens': 0, 'cache_read_input_tokens': 0, 'input_tokens': 447, 'output_tokens': 56})\n",
      "[ModelRequest(parts=[UserPromptPart(content='The windy city in the US of A.', timestamp=datetime.datetime(2025, 5, 30, 11, 15, 0, 965185, tzinfo=datetime.timezone.utc))]), ModelResponse(parts=[ToolCallPart(tool_name='final_result', args={'city': 'Chicago', 'country': 'United States'}, tool_call_id='toolu_01VpXHRJR6fvxWRSXrahFXdc')], usage=Usage(requests=1, request_tokens=447, response_tokens=56, total_tokens=503, details={'cache_creation_input_tokens': 0, 'cache_read_input_tokens': 0, 'input_tokens': 447, 'output_tokens': 56}), model_name='claude-3-haiku-20240307', timestamp=datetime.datetime(2025, 5, 30, 11, 15, 1, 805045, tzinfo=datetime.timezone.utc), vendor_id='msg_01VGqD2dzmBWKSsxqdNFiqzi'), ModelRequest(parts=[ToolReturnPart(tool_name='final_result', content='Final result processed.', tool_call_id='toolu_01VpXHRJR6fvxWRSXrahFXdc', timestamp=datetime.datetime(2025, 5, 30, 11, 15, 1, 805259, tzinfo=datetime.timezone.utc))])]\n"
     ]
    }
   ],
   "source": [
    "from pydantic import BaseModel\n",
    "\n",
    "from pydantic_ai import Agent\n",
    "\n",
    "\n",
    "class MyModel(BaseModel):\n",
    "    city: str\n",
    "    country: str\n",
    "\n",
    "\n",
    "model = \"anthropic:claude-3-haiku-20240307\"\n",
    "\n",
    "print(f\"Using model: {model}\")\n",
    "agent = Agent(model, output_type=MyModel)\n",
    "\n",
    "result = agent.run_sync(\"The windy city in the US of A.\")\n",
    "print(result.output)\n",
    "print(result.usage())\n",
    "print(result.all_messages())"
   ]
  }
 ],
 "metadata": {
  "kernelspec": {
   "display_name": "dnd-rag",
   "language": "python",
   "name": "python3"
  },
  "language_info": {
   "codemirror_mode": {
    "name": "ipython",
    "version": 3
   },
   "file_extension": ".py",
   "mimetype": "text/x-python",
   "name": "python",
   "nbconvert_exporter": "python",
   "pygments_lexer": "ipython3",
   "version": "3.12.9"
  }
 },
 "nbformat": 4,
 "nbformat_minor": 5
}
