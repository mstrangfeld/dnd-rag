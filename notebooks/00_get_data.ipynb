{
 "cells": [
  {
   "cell_type": "markdown",
   "id": "5c430c85",
   "metadata": {},
   "source": [
    "# Get Data\n",
    "\n",
    "This was a fight...\n",
    "\n",
    "At first I thought: \"Hey, just download the SRD PDF and just use this!\"\n",
    "\n",
    "But after multiple hours fighting with this, I can finally say: That was a stupid idea.\n",
    "\n",
    "The ocr (using docling) was slow and error prone and I completely overlooked the amazing work a lot of others have already done, converting the data into machine-readable formats.\n",
    "\n",
    "So, here we go. Just execute the following cells to get the data and be happy you didn't need to play around with PDF OCR and lose your mind.\n"
   ]
  },
  {
   "cell_type": "code",
   "execution_count": null,
   "id": "858572b1",
   "metadata": {},
   "outputs": [
    {
     "name": "stderr",
     "output_type": "stream",
     "text": [
      "/tmp/ipykernel_186366/489637618.py:14: DeprecationWarning: Python 3.14 will, by default, filter extracted tar archives and reject files or modify their metadata. Use the filter argument to control this behavior.\n",
      "  tar.extractall(path=\"./data\")\n"
     ]
    }
   ],
   "source": [
    "import os\n",
    "import tarfile\n",
    "import urllib.request\n",
    "\n",
    "url = \"https://github.com/oldmanumby/DND.SRD.Wiki/archive/refs/tags/v0.5.2.tar.gz\"\n",
    "\n",
    "# Download the tarball\n",
    "tarball_path = \"./data/dnd_srd_v0.5.2.tar.gz\"\n",
    "urllib.request.urlretrieve(url, tarball_path)\n",
    "\n",
    "# Extract the tarball\n",
    "with tarfile.open(tarball_path, \"r:gz\") as tar:\n",
    "    tar.extractall(path=\"./data\")\n",
    "\n",
    "# Remove the tarball after extraction\n",
    "os.remove(tarball_path)"
   ]
  }
 ],
 "metadata": {
  "kernelspec": {
   "display_name": "dnd-rag",
   "language": "python",
   "name": "python3"
  },
  "language_info": {
   "codemirror_mode": {
    "name": "ipython",
    "version": 3
   },
   "file_extension": ".py",
   "mimetype": "text/x-python",
   "name": "python",
   "nbconvert_exporter": "python",
   "pygments_lexer": "ipython3",
   "version": "3.12.9"
  }
 },
 "nbformat": 4,
 "nbformat_minor": 5
}
